{
 "cells": [
  {
   "cell_type": "markdown",
   "metadata": {},
   "source": [
    "# Book review and ratings by user"
   ]
  },
  {
   "cell_type": "code",
   "execution_count": 166,
   "metadata": {},
   "outputs": [],
   "source": [
    "import goodreads_api_client as gr\n",
    "from goodreads import client\n",
    "import pickle\n",
    "import requests\n",
    "from bs4 import BeautifulSoup\n",
    "import xmltodict\n",
    "import pprint\n",
    "import json\n",
    "import os\n",
    "import re\n",
    "import pandas as pd\n",
    "import numpy as np\n",
    "#!pip install selenium\n",
    "from selenium import webdriver\n",
    "from selenium.webdriver.common.keys import Keys\n",
    "chromedriver = \"/Applications/chromedriver\" # path to the chromedriver executable\n",
    "os.environ[\"webdriver.chrome.driver\"] = chromedriver"
   ]
  },
  {
   "cell_type": "markdown",
   "metadata": {},
   "source": [
    "**Goodreads API credentials and wrappers**"
   ]
  },
  {
   "cell_type": "code",
   "execution_count": 167,
   "metadata": {},
   "outputs": [],
   "source": [
    "api_key = 'Jjd519OAM82QfNQGepZsw'\n",
    "api_secret = 'JY9m0mBvG7U1Ws4AUkpMucbwCNi6tndGTIqdASYo'\n",
    "\n",
    "client = gr.Client(developer_key=api_key)\n",
    "\n",
    "from goodreads import client\n",
    "gc = client.GoodreadsClient(api_key, api_secret)"
   ]
  },
  {
   "cell_type": "markdown",
   "metadata": {},
   "source": [
    "**Define functions to access APIs and scrape**"
   ]
  },
  {
   "cell_type": "code",
   "execution_count": 168,
   "metadata": {},
   "outputs": [],
   "source": [
    "def get_info(url):\n",
    "    key = api_key\n",
    "    response = requests.get(url, params={'key': api_key})\n",
    "    #soup = BeautifulSoup(response.content, \"lxml-xml\")\n",
    "    results = xmltodict.parse(response.content)\n",
    "    #results = json.dumps(results)\n",
    "    return(results['GoodreadsResponse'])\n",
    "\n",
    "def get_soup(url):\n",
    "    response = requests.get(url)\n",
    "    page = response.text\n",
    "    soup = BeautifulSoup(page, \"lxml\")\n",
    "    #print(soup.prettify())\n",
    "    return(soup)"
   ]
  },
  {
   "cell_type": "markdown",
   "metadata": {},
   "source": [
    "**List of book id's on fantasy genre lists**"
   ]
  },
  {
   "cell_type": "code",
   "execution_count": 13,
   "metadata": {},
   "outputs": [],
   "source": [
    "with open(\"book_ids.pkl\", \"rb\") as f:\n",
    "    fantasy_ids = pickle.load(f)\n",
    "fantasy_ids = list(set(fantasy_ids))"
   ]
  },
  {
   "cell_type": "markdown",
   "metadata": {},
   "source": [
    "**Define a function to get data for top reviews of a book by id**"
   ]
  },
  {
   "cell_type": "code",
   "execution_count": 169,
   "metadata": {},
   "outputs": [],
   "source": [
    "def get_book_review_dict_by_user(i):\n",
    "    d = {}\n",
    "#for i in fantasy_ids[0:1]:\n",
    "    d[i] = {}\n",
    "\n",
    "    url = 'https://www.goodreads.com/book/show/'+i+'.xml'\n",
    "\n",
    "    soup = get_soup(url)\n",
    "    review_data = soup.find_all(\"div\", {\"class\" :\"review\"})\n",
    "\n",
    "    for r in review_data:\n",
    "        try:\n",
    "            userid = r.find(\"a\", {\"class\" :\"user\"})['href'].split('show/')[1].split('-')[0]\n",
    "            d[i][userid] = {}\n",
    "            try:\n",
    "                d[i][userid]['user'] = r.find(\"a\", {\"class\" :\"user\"}).text\n",
    "            except:\n",
    "                pass\n",
    "            try:\n",
    "                d[i][userid]['review'] = r.find(\"div\", {\"class\" :\"reviewText\"}).text.strip()\n",
    "            except:\n",
    "                pass\n",
    "            try:\n",
    "                d[i][userid]['rating'] = r.find(\"span\", {\"class\" :\"staticStars\"}).text\n",
    "            except:\n",
    "                pass\n",
    "                #d[i]['user_page'] = r.find(\"a\", {\"class\" :\"user\"})['href']\n",
    "            try:\n",
    "                d[i][userid]['review_date'] = r.find(\"a\", {\"class\" :\"reviewDate\"}).text            \n",
    "            except:\n",
    "                pass\n",
    "        except:\n",
    "            pass  \n",
    "    return(d)"
   ]
  },
  {
   "cell_type": "markdown",
   "metadata": {},
   "source": [
    "**Iterate through list of book id's. Stop every 1000 items to pickle the results. Save the final iteration variable as well**"
   ]
  },
  {
   "cell_type": "code",
   "execution_count": 14,
   "metadata": {},
   "outputs": [
    {
     "data": {
      "text/plain": [
       "46057"
      ]
     },
     "execution_count": 14,
     "metadata": {},
     "output_type": "execute_result"
    }
   ],
   "source": [
    "len(fantasy_ids)"
   ]
  },
  {
   "cell_type": "markdown",
   "metadata": {},
   "source": [
    "**Reviews for first 10000 books**"
   ]
  },
  {
   "cell_type": "code",
   "execution_count": 20,
   "metadata": {
    "scrolled": true
   },
   "outputs": [
    {
     "name": "stdout",
     "output_type": "stream",
     "text": [
      "1138475\n",
      "1000 18490893\n",
      "2000 36284387\n",
      "3000 16064396\n",
      "4000 47601\n",
      "5000 15756383\n",
      "6000 274056\n",
      "7000 25427978\n",
      "8000 14656597\n",
      "9000 17693317\n",
      "10000 29921910\n"
     ]
    }
   ],
   "source": [
    "for count, bookid in enumerate(fantasy_ids[0:10001]): \n",
    "    if count == 0:\n",
    "        print(bookid)\n",
    "    else:\n",
    "        if count % 1000 == 0:\n",
    "            print(count, bookid)"
   ]
  },
  {
   "cell_type": "code",
   "execution_count": 30,
   "metadata": {
    "scrolled": true
   },
   "outputs": [
    {
     "name": "stdout",
     "output_type": "stream",
     "text": [
      "1000\n",
      "2000\n",
      "3000\n",
      "4000\n",
      "5000\n",
      "6000\n",
      "7000\n",
      "8000\n",
      "9000\n",
      "10000\n"
     ]
    }
   ],
   "source": [
    "book_review_dict = get_book_review_dict_by_user(fantasy_ids[0])\n",
    "\n",
    "iters = 0\n",
    "for count, bookid in enumerate(fantasy_ids[0:10001]): \n",
    "    if count == 0:\n",
    "        pass\n",
    "    else:\n",
    "        book_review_dict.update(get_book_review_dict_by_user(bookid))\n",
    "    # Every 1000 books stop and pickle the dictioary\n",
    "        if count % 1000 == 0:\n",
    "            with open('book_reviews_by_user.pkl', 'wb') as f:\n",
    "                pickle.dump(book_review_dict, f, pickle.HIGHEST_PROTOCOL)\n",
    "            print(count)\n",
    "            iters = count\n",
    "            with open('book_review_iter_status.pkl', 'wb') as f:\n",
    "                pickle.dump(iters, f)\n"
   ]
  },
  {
   "cell_type": "code",
   "execution_count": 177,
   "metadata": {},
   "outputs": [],
   "source": [
    "with open('book_reviews_by_user.pkl', 'wb') as f:\n",
    "    pickle.dump(book_review_dict, f, pickle.HIGHEST_PROTOCOL)"
   ]
  },
  {
   "cell_type": "code",
   "execution_count": 179,
   "metadata": {},
   "outputs": [],
   "source": [
    "test = pd.read_pickle('book_reviews_by_user.pkl')"
   ]
  },
  {
   "cell_type": "code",
   "execution_count": 181,
   "metadata": {},
   "outputs": [
    {
     "data": {
      "text/plain": [
       "26001"
      ]
     },
     "execution_count": 181,
     "metadata": {},
     "output_type": "execute_result"
    }
   ],
   "source": [
    "len(book_review_dict)"
   ]
  },
  {
   "cell_type": "markdown",
   "metadata": {},
   "source": [
    "**Remaining 30k+ reviews**"
   ]
  },
  {
   "cell_type": "code",
   "execution_count": null,
   "metadata": {
    "scrolled": true
   },
   "outputs": [
    {
     "name": "stdout",
     "output_type": "stream",
     "text": [
      "16000\n",
      "17000\n",
      "18000\n",
      "19000\n",
      "20000\n",
      "21000\n",
      "22000\n",
      "23000\n",
      "24000\n",
      "25000\n",
      "26000\n",
      "27000\n",
      "28000\n",
      "29000\n",
      "30000\n",
      "31000\n"
     ]
    }
   ],
   "source": [
    "#book_review_dict = pd.read_pickle('book_reviews_by_user.pkl')\n",
    "\n",
    "iters = len(book_review_dict)\n",
    "\n",
    "for count, bookid in enumerate(fantasy_ids[iters:]): \n",
    "    if count == 0:\n",
    "        pass\n",
    "    else:\n",
    "        book_review_dict.update(get_book_review_dict_by_user(bookid))\n",
    "    # Every 1000 books stop and pickle the dictioary\n",
    "        if count % 1000 == 0:\n",
    "            with open('book_reviews_by_user.pkl', 'wb') as f:\n",
    "                pickle.dump(book_review_dict, f, pickle.HIGHEST_PROTOCOL)\n",
    "            print(count+15000)\n",
    "            iters = count\n",
    "            with open('book_review_iter_status.pkl', 'wb') as f:\n",
    "                pickle.dump(iters, f)\n"
   ]
  },
  {
   "cell_type": "code",
   "execution_count": 172,
   "metadata": {},
   "outputs": [
    {
     "data": {
      "text/plain": [
       "26001"
      ]
     },
     "execution_count": 172,
     "metadata": {},
     "output_type": "execute_result"
    }
   ],
   "source": [
    "len(book_review_dict)"
   ]
  },
  {
   "cell_type": "code",
   "execution_count": 164,
   "metadata": {},
   "outputs": [
    {
     "data": {
      "text/plain": [
       "('11073149', '11073149')"
      ]
     },
     "execution_count": 164,
     "metadata": {},
     "output_type": "execute_result"
    }
   ],
   "source": [
    "list(book_review_dict.keys())[-1], fantasy_ids[26001]"
   ]
  },
  {
   "cell_type": "markdown",
   "metadata": {},
   "source": [
    "**Rearrange dictionary structure for mondgodb**"
   ]
  },
  {
   "cell_type": "code",
   "execution_count": 140,
   "metadata": {},
   "outputs": [],
   "source": [
    "# Turn dictionary into a list\n",
    "book_reviews_10k = []\n",
    "for k, v in book_review_dict.items():\n",
    "    book_reviews_10k.append({'bookid': k, 'reviews': v})\n",
    "\n",
    "# Move userid to inside the review data rather than key to review data\n",
    "reviews = []\n",
    "for i, b in enumerate(book_reviews_10k):\n",
    "\n",
    "    for userid in book_reviews_10k[i]['reviews'].keys():\n",
    "        \n",
    "        book_reviews_10k[i]['reviews'][userid]['userid'] = userid\n",
    "        \n",
    "# Final list of dictionaries\n",
    "book_reviews = []\n",
    "\n",
    "fix_iters = 0\n",
    "\n",
    "for i, book in enumerate(book_reviews_10k):\n",
    "    reviews = []\n",
    "    for review in book['reviews'].values():\n",
    "        reviews.append(review)\n",
    "    book_reviews.append({'bookid': book['bookid'], 'reviews': reviews})\n",
    "        \n",
    "    # Every 1000 books stop and pickle\n",
    "    if i % 1000 == 0:\n",
    "        with open('book_reviews_dict_first10k.pkl', 'wb') as f:\n",
    "            pickle.dump(book_reviews, f, pickle.HIGHEST_PROTOCOL)\n",
    "        iters = count\n",
    "        with open('book_review_fix_iter_status.pkl', 'wb') as f:\n",
    "            pickle.dump(fix_iters, f)\n"
   ]
  },
  {
   "cell_type": "markdown",
   "metadata": {},
   "source": [
    "**END NOTEBOOK**"
   ]
  },
  {
   "cell_type": "markdown",
   "metadata": {},
   "source": [
    "***"
   ]
  }
 ],
 "metadata": {
  "kernelspec": {
   "display_name": "Python 3",
   "language": "python",
   "name": "python3"
  },
  "language_info": {
   "codemirror_mode": {
    "name": "ipython",
    "version": 3
   },
   "file_extension": ".py",
   "mimetype": "text/x-python",
   "name": "python",
   "nbconvert_exporter": "python",
   "pygments_lexer": "ipython3",
   "version": "3.6.5"
  }
 },
 "nbformat": 4,
 "nbformat_minor": 2
}
