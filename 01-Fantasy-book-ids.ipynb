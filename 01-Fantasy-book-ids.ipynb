{
 "cells": [
  {
   "cell_type": "markdown",
   "metadata": {},
   "source": [
    "# Get Book IDs for Fantasy Books"
   ]
  },
  {
   "cell_type": "code",
   "execution_count": 1,
   "metadata": {
    "scrolled": true
   },
   "outputs": [],
   "source": [
    "#!pip install goodreads-api-client\n",
    "#!pip install xmltodict\n",
    "import goodreads_api_client as gr\n",
    "from goodreads import client\n",
    "import requests"
   ]
  },
  {
   "cell_type": "code",
   "execution_count": 2,
   "metadata": {
    "scrolled": true
   },
   "outputs": [
    {
     "name": "stdout",
     "output_type": "stream",
     "text": [
      "Requirement already satisfied: selenium in /anaconda3/lib/python3.6/site-packages (3.141.0)\r\n",
      "Requirement already satisfied: urllib3 in /anaconda3/lib/python3.6/site-packages (from selenium) (1.22)\r\n"
     ]
    }
   ],
   "source": [
    "from bs4 import BeautifulSoup\n",
    "import xmltodict\n",
    "import pprint\n",
    "import json\n",
    "import os\n",
    "#!pip install selenium\n",
    "from selenium import webdriver\n",
    "from selenium.webdriver.common.keys import Keys\n",
    "chromedriver = \"/Applications/chromedriver\" # path to the chromedriver executable\n",
    "os.environ[\"webdriver.chrome.driver\"] = chromedriver"
   ]
  },
  {
   "cell_type": "markdown",
   "metadata": {},
   "source": [
    "**Goodreads API credentials**"
   ]
  },
  {
   "cell_type": "code",
   "execution_count": 3,
   "metadata": {},
   "outputs": [],
   "source": [
    "api_key = 'Jjd519OAM82QfNQGepZsw'\n",
    "api_secret = 'JY9m0mBvG7U1Ws4AUkpMucbwCNi6tndGTIqdASYo'"
   ]
  },
  {
   "cell_type": "code",
   "execution_count": 8,
   "metadata": {},
   "outputs": [],
   "source": [
    "client = gr.Client(developer_key=api_key)\n",
    "\n",
    "from goodreads import client\n",
    "gc = client.GoodreadsClient(api_key, api_secret)"
   ]
  },
  {
   "cell_type": "markdown",
   "metadata": {},
   "source": [
    "**Define helpful functions**"
   ]
  },
  {
   "cell_type": "code",
   "execution_count": 4,
   "metadata": {},
   "outputs": [],
   "source": [
    "def get_info(url):\n",
    "    key = api_key\n",
    "    response = requests.get(url, params={'key': api_key})\n",
    "    #soup = BeautifulSoup(response.content, \"lxml-xml\")\n",
    "    results = xmltodict.parse(response.content)\n",
    "    #results = json.dumps(results)\n",
    "    return(results['GoodreadsResponse'])"
   ]
  },
  {
   "cell_type": "code",
   "execution_count": 11,
   "metadata": {},
   "outputs": [],
   "source": [
    "def get_soup(url):\n",
    "    response = requests.get(url)\n",
    "    page = response.text\n",
    "    soup = BeautifulSoup(page, \"lxml\")\n",
    "    #print(soup.prettify())\n",
    "    return(soup)\n",
    "\n",
    "def get_soup_selenium(url):\n",
    "    driver = webdriver.Chrome(chromedriver)\n",
    "    driver.get(url)\n",
    "    soup = BeautifulSoup(driver.page_source, 'lxml')\n",
    "    return(soup)\n",
    "def stripHTML(v):\n",
    "    v = [re.sub(r'\\t', '', x) for x in v]\n",
    "    v = [re.sub(r'\\r', '', x) for x in v]\n",
    "    v = [re.sub(r'\\n', '', x) for x in v]\n",
    "    return(v)"
   ]
  },
  {
   "cell_type": "markdown",
   "metadata": {},
   "source": [
    "**Links to all listopia links**"
   ]
  },
  {
   "cell_type": "code",
   "execution_count": 12,
   "metadata": {},
   "outputs": [
    {
     "data": {
      "text/plain": [
       "339"
      ]
     },
     "execution_count": 12,
     "metadata": {},
     "output_type": "execute_result"
    }
   ],
   "source": [
    "main_url = 'https://www.goodreads.com/list/tag/fantasy'\n",
    "soup = get_soup(main_url)\n",
    "links = soup.find_all('a', href=True)\n",
    "len(links)"
   ]
  },
  {
   "cell_type": "code",
   "execution_count": 13,
   "metadata": {},
   "outputs": [
    {
     "data": {
      "text/plain": [
       "30"
      ]
     },
     "execution_count": 13,
     "metadata": {},
     "output_type": "execute_result"
    }
   ],
   "source": [
    "list_links = []\n",
    "for line in soup.find_all('a'):\n",
    "    try:\n",
    "        link = line['href']\n",
    "        if 'list/show' in link:\n",
    "            list_links.append('https://www.goodreads.com'+str(link))\n",
    "    except:\n",
    "        pass\n",
    "list_links = list(set(list_links))\n",
    "len(list_links)"
   ]
  },
  {
   "cell_type": "code",
   "execution_count": 16,
   "metadata": {
    "scrolled": true
   },
   "outputs": [
    {
     "data": {
      "text/plain": [
       "['https://www.goodreads.com/list/show/211.Best_Time_Travel_Fiction',\n",
       " 'https://www.goodreads.com/list/show/26495.Best_Woman_Authored_Books',\n",
       " 'https://www.goodreads.com/list/show/642.Hidden_Gems_YA_Fantasy_Novels',\n",
       " 'https://www.goodreads.com/list/show/3.Best_Science_Fiction_Fantasy_Books',\n",
       " 'https://www.goodreads.com/list/show/51.The_Best_Urban_Fantasy',\n",
       " 'https://www.goodreads.com/list/show/559.What_To_Read_After_Harry_Potter',\n",
       " 'https://www.goodreads.com/list/show/25529.Best_Unknown_but_must_be_Known_books_',\n",
       " 'https://www.goodreads.com/list/show/1023.Best_Strong_Female_Fantasy_Novels',\n",
       " 'https://www.goodreads.com/list/show/4252.What_Book_Would_You_Like_To_Live_In_',\n",
       " 'https://www.goodreads.com/list/show/7057.Original_Stories_a_Breath_of_Fresh_Air',\n",
       " 'https://www.goodreads.com/list/show/618.Best_Steampunk_Books',\n",
       " 'https://www.goodreads.com/list/show/871.Most_Interesting_Magic_System',\n",
       " 'https://www.goodreads.com/list/show/319.Best_Fantasy_Series_Trilogies_and_Duologies',\n",
       " 'https://www.goodreads.com/list/show/225.Best_Paranormal_Fantasy_Romances',\n",
       " 'https://www.goodreads.com/list/show/2700.Sci_Fi_and_Fantasy_Must_Reads',\n",
       " 'https://www.goodreads.com/list/show/400.Best_Paranormal_Urban_Fantasy_Books',\n",
       " 'https://www.goodreads.com/list/show/50.The_Best_Epic_Fantasy',\n",
       " 'https://www.goodreads.com/list/show/96.The_Best_Fairytales_and_Retellings',\n",
       " 'https://www.goodreads.com/list/show/147.Best_Kick_Ass_Female_Characters_From_YA_and_Children_s_Fantasy_and_Science_Fiction',\n",
       " 'https://www.goodreads.com/list/show/2491.Must_Read_Books_Different_Genres',\n",
       " 'https://www.goodreads.com/list/show/9088.Best_ADULT_Urban_Fantasy_Fantasy_and_Paranormal_Romance',\n",
       " 'https://www.goodreads.com/list/show/870.Magic_Adventure_Romance',\n",
       " 'https://www.goodreads.com/list/show/5490.YA_Books_Far_Better_than_Twilight',\n",
       " 'https://www.goodreads.com/list/show/88.Best_Fantasy_Books_of_the_21st_Century',\n",
       " 'https://www.goodreads.com/list/show/74206.Can_t_Wait_Sci_Fi_Fantasy_of_2015',\n",
       " 'https://www.goodreads.com/list/show/933.Zombies_',\n",
       " 'https://www.goodreads.com/list/show/2999.Books_with_Angels_Gods_or_Demons',\n",
       " 'https://www.goodreads.com/list/show/20917.Can_t_Wait_Sci_Fi_Fantasy_of_2013',\n",
       " 'https://www.goodreads.com/list/show/19109.I_AM_IN_LOVE_',\n",
       " 'https://www.goodreads.com/list/show/2669.Books_With_Heroes_Heroines_Who_Are_Assassins']"
      ]
     },
     "execution_count": 16,
     "metadata": {},
     "output_type": "execute_result"
    }
   ],
   "source": [
    "list_links"
   ]
  },
  {
   "cell_type": "markdown",
   "metadata": {},
   "source": [
    "**Functions to scrape ids for books on fantasy listopia**"
   ]
  },
  {
   "cell_type": "code",
   "execution_count": 18,
   "metadata": {},
   "outputs": [],
   "source": [
    "def get_page_max(soup):\n",
    "    page_links=[]\n",
    "    for line in soup.find_all('a'):\n",
    "        try:\n",
    "            # Go to the next page while under max_pages\n",
    "            page_url = url.split('goodreads.com')[1]+'?page='\n",
    "            if page_url in line['href']:\n",
    "                page_links.append(line['href'])    \n",
    "        except:   \n",
    "            pass\n",
    "    max_pages = int(page_links[-2].split('=')[1])\n",
    "    return(max_pages)\n",
    "\n",
    "def get_book_ids(soup):\n",
    "    ids = []\n",
    "    tables = soup.find_all(\"table\")\n",
    "    rows = tables[0].find_all('tr')\n",
    "    tds = [row.find_all('td') for row in rows]\n",
    "\n",
    "    for i in range(len(tds)):\n",
    "        try:\n",
    "            ids.append(tds[i][1].find(\"div\", {\"class\" :\"u-anchorTarget\"})['id'])\n",
    "        except:\n",
    "            pass\n",
    "    return(ids)"
   ]
  },
  {
   "cell_type": "markdown",
   "metadata": {},
   "source": [
    "**Loop through each link and save book ids to list**"
   ]
  },
  {
   "cell_type": "code",
   "execution_count": 19,
   "metadata": {},
   "outputs": [
    {
     "data": {
      "text/plain": [
       "83000"
      ]
     },
     "execution_count": 19,
     "metadata": {},
     "output_type": "execute_result"
    }
   ],
   "source": [
    "soup_success = 0\n",
    "soup_fail = 0\n",
    "\n",
    "ids = []\n",
    "\n",
    "# Loop through all fantasy book links\n",
    "for i in range(len(list_links)):\n",
    "    # Open each link with fantasy book lists\n",
    "    url = list_links[i]\n",
    "    try:\n",
    "        soup = get_soup(url)\n",
    "        # Get book id's from page 1\n",
    "        ids = ids+get_book_ids(soup)\n",
    "        # Go through remaining pages up to page max\n",
    "        pages = get_page_max(soup)\n",
    "        for p in range(2, pages):\n",
    "            try:\n",
    "                soupp = get_soup(url+'?page='+str(p))\n",
    "                ids = ids+get_book_ids(soupp)\n",
    "            except:\n",
    "                pass        \n",
    "        soup_success +=1\n",
    "    except:\n",
    "        soup_fail+=1\n",
    "len(ids)"
   ]
  },
  {
   "cell_type": "markdown",
   "metadata": {},
   "source": [
    "**Save book ids to pickle**"
   ]
  },
  {
   "cell_type": "code",
   "execution_count": 20,
   "metadata": {},
   "outputs": [],
   "source": [
    "import pickle\n",
    "\n",
    "with open('book_ids.pkl', 'wb') as f:\n",
    "    pickle.dump(ids, f)"
   ]
  },
  {
   "cell_type": "markdown",
   "metadata": {},
   "source": [
    "**Set of unique bookids**"
   ]
  },
  {
   "cell_type": "code",
   "execution_count": 25,
   "metadata": {},
   "outputs": [
    {
     "data": {
      "text/plain": [
       "46057"
      ]
     },
     "execution_count": 25,
     "metadata": {},
     "output_type": "execute_result"
    }
   ],
   "source": [
    "len(list(set(ids)))"
   ]
  },
  {
   "cell_type": "markdown",
   "metadata": {},
   "source": [
    "**END NOTEBOOK**"
   ]
  },
  {
   "cell_type": "markdown",
   "metadata": {},
   "source": [
    "***"
   ]
  }
 ],
 "metadata": {
  "kernelspec": {
   "display_name": "Python 3",
   "language": "python",
   "name": "python3"
  },
  "language_info": {
   "codemirror_mode": {
    "name": "ipython",
    "version": 3
   },
   "file_extension": ".py",
   "mimetype": "text/x-python",
   "name": "python",
   "nbconvert_exporter": "python",
   "pygments_lexer": "ipython3",
   "version": "3.6.5"
  }
 },
 "nbformat": 4,
 "nbformat_minor": 2
}
